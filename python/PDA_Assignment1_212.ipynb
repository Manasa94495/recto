{
 "cells": [
  {
   "cell_type": "code",
   "execution_count": 2,
   "metadata": {},
   "outputs": [
    {
     "name": "stdout",
     "output_type": "stream",
     "text": [
      "('Tom', 'R18CS01')\n",
      "('Rohith', 'R18CS02')\n",
      "('Mike', 'R18CS03')\n",
      "('Vicky', 'R18CS04')\n",
      "('Smitha', 'R18CS05')\n",
      "('Rishab', 'R18CS06')\n",
      "('Hansika', 'R18CS07')\n",
      "('Tina', 'R18CS08')\n",
      "('Ajay', 'R18CS09')\n",
      "('Tanu', 'R18CS10')\n"
     ]
    }
   ],
   "source": [
    "name=['Tom','Rohith','Mike','Vicky','Smitha','Rishab','Hansika','Tina','Ajay','Tanu']       \n",
    "srn=['R18CS01','R18CS02','R18CS03','R18CS04','R18CS05','R18CS06','R18CS07','R18CS08','R18CS09','R18CS10']\n",
    "result=list(zip(name, srn))\n",
    "print(*result,sep=\"\\n\")\n"
   ]
  },
  {
   "cell_type": "code",
   "execution_count": 4,
   "metadata": {},
   "outputs": [
    {
     "name": "stdout",
     "output_type": "stream",
     "text": [
      "Enter the value of n:\n",
      "18\n",
      "[0, 9]\n"
     ]
    }
   ],
   "source": [
    "n=int(input(\"Enter the value of n:\\n\"))\n",
    "result=[x for x in range(n) if x % 9 == 0]\n",
    "print(result)\n"
   ]
  },
  {
   "cell_type": "code",
   "execution_count": 5,
   "metadata": {},
   "outputs": [
    {
     "name": "stdout",
     "output_type": "stream",
     "text": [
      "Enter the value of n:\n",
      "100\n",
      "[0, 9, 18, 27, 36, 45, 54, 63, 72, 81, 90, 99]\n"
     ]
    }
   ],
   "source": [
    "n=int(input(\"Enter the value of n:\\n\"))\n",
    "result=[x for x in range(n) if x % 9 == 0]\n",
    "print(result)\n"
   ]
  },
  {
   "cell_type": "raw",
   "metadata": {},
   "source": []
  },
  {
   "cell_type": "code",
   "execution_count": 1,
   "metadata": {},
   "outputs": [
    {
     "name": "stdout",
     "output_type": "stream",
     "text": [
      "Enter number of elements : 10\n",
      "Enter the 0 elements of the list : 94\n",
      "Enter the 1 elements of the list : 2\n",
      "Enter the 2 elements of the list : 54\n",
      "Enter the 3 elements of the list : 36\n",
      "Enter the 4 elements of the list : 15\n",
      "Enter the 5 elements of the list : 74\n",
      "Enter the 6 elements of the list : 63\n",
      "Enter the 7 elements of the list : 20\n",
      "Enter the 8 elements of the list : 49\n",
      "Enter the 9 elements of the list : 12\n",
      "The sorted list :  [2, 12, 15, 20, 36, 49, 54, 63, 74, 94]\n"
     ]
    }
   ],
   "source": [
    "%run mysort.ipynb"
   ]
  },
  {
   "cell_type": "code",
   "execution_count": null,
   "metadata": {},
   "outputs": [],
   "source": []
  }
 ],
 "metadata": {
  "kernelspec": {
   "display_name": "Python 3",
   "language": "python",
   "name": "python3"
  },
  "language_info": {
   "codemirror_mode": {
    "name": "ipython",
    "version": 3
   },
   "file_extension": ".py",
   "mimetype": "text/x-python",
   "name": "python",
   "nbconvert_exporter": "python",
   "pygments_lexer": "ipython3",
   "version": "3.8.3"
  }
 },
 "nbformat": 4,
 "nbformat_minor": 4
}
