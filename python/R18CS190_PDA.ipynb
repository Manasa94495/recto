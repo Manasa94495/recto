{
 "cells": [
  {
   "cell_type": "code",
   "execution_count": 1,
   "metadata": {},
   "outputs": [
    {
     "name": "stdout",
     "output_type": "stream",
     "text": [
      "('Ricky', 'R20CS01')\n",
      "('James', 'R20CS02')\n",
      "('Nancy', 'R20CS03')\n",
      "('Charles', 'R20CS04')\n",
      "('Paul', 'R20CS05')\n",
      "('Laura', 'R20CS06')\n",
      "('Peter', 'R20CS07')\n",
      "('Alexa', 'R20CS08')\n",
      "('Johnny', 'R20CS09')\n",
      "('Sara', 'R20CS10')\n"
     ]
    }
   ],
   "source": [
    "name=['Ricky','James','Nancy','Charles','Paul','Laura','Peter','Alexa','Johnny','Sara']       \n",
    "srn=['R20CS01','R20CS02','R20CS03','R20CS04','R20CS05','R20CS06','R20CS07','R20CS08','R20CS09','R20CS10']\n",
    "result=list(zip(name, srn))\n",
    "print(*result,sep=\"\\n\")\n"
   ]
  },
  {
   "cell_type": "code",
   "execution_count": 2,
   "metadata": {},
   "outputs": [
    {
     "name": "stdout",
     "output_type": "stream",
     "text": [
      "Enter the value of n:\n",
      "200\n",
      "[0, 9, 18, 27, 36, 45, 54, 63, 72, 81, 90, 99, 108, 117, 126, 135, 144, 153, 162, 171, 180, 189, 198]\n"
     ]
    }
   ],
   "source": [
    "n=int(input(\"Enter the value of n:\\n\"))\n",
    "result=[x for x in range(n) if x % 9 == 0]\n",
    "print(result)\n"
   ]
  },
  {
   "cell_type": "code",
   "execution_count": 15,
   "metadata": {},
   "outputs": [
    {
     "name": "stdout",
     "output_type": "stream",
     "text": [
      "Enter number of elements : 5\n",
      "Enter the 0 elements of the list : 1 \n",
      "Enter the 1 elements of the list : 5\n",
      "Enter the 2 elements of the list : 6\n",
      "Enter the 3 elements of the list : 41\n",
      "Enter the 4 elements of the list : 62\n",
      "The sorted list :  [1, 5, 6, 41, 62]\n"
     ]
    }
   ],
   "source": [
    "%run mysort.ipynb"
   ]
  },
  {
   "cell_type": "code",
   "execution_count": null,
   "metadata": {},
   "outputs": [],
   "source": []
  },
  {
   "cell_type": "code",
   "execution_count": null,
   "metadata": {},
   "outputs": [],
   "source": []
  },
  {
   "cell_type": "code",
   "execution_count": null,
   "metadata": {},
   "outputs": [],
   "source": []
  },
  {
   "cell_type": "code",
   "execution_count": null,
   "metadata": {},
   "outputs": [],
   "source": []
  }
 ],
 "metadata": {
  "kernelspec": {
   "display_name": "Python 3",
   "language": "python",
   "name": "python3"
  },
  "language_info": {
   "codemirror_mode": {
    "name": "ipython",
    "version": 3
   },
   "file_extension": ".py",
   "mimetype": "text/x-python",
   "name": "python",
   "nbconvert_exporter": "python",
   "pygments_lexer": "ipython3",
   "version": "3.8.3"
  }
 },
 "nbformat": 4,
 "nbformat_minor": 4
}
