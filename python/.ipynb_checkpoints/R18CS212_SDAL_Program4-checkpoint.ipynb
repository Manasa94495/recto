{
 "cells": [
  {
   "cell_type": "code",
   "execution_count": 1,
   "metadata": {},
   "outputs": [],
   "source": [
    "import pandas as pd\n",
    "import numpy as np\n",
    "d={\n",
    "    'Name':['Anitha','Bobby','Raghavendra','Mamatha','Madhusudhan','Seema','Sowmya','Rahul','Manoj',\n",
    "           'Mounika','Ajay','Sundar'],\n",
    "    'Score1':[62,47,55,74,31,77,85,63,42,32,71,57],\n",
    "    'Score2':[89,87,67,55,47,72,76,79,44,92,99,69],\n",
    "    'Score3':[56,86,77,45,73,62,74,89,71,67,97,68],\n",
    "}\n",
    "df=pd.DataFrame(d)"
   ]
  },
  {
   "cell_type": "code",
   "execution_count": 2,
   "metadata": {},
   "outputs": [
    {
     "data": {
      "text/html": [
       "<div>\n",
       "<style scoped>\n",
       "    .dataframe tbody tr th:only-of-type {\n",
       "        vertical-align: middle;\n",
       "    }\n",
       "\n",
       "    .dataframe tbody tr th {\n",
       "        vertical-align: top;\n",
       "    }\n",
       "\n",
       "    .dataframe thead th {\n",
       "        text-align: right;\n",
       "    }\n",
       "</style>\n",
       "<table border=\"1\" class=\"dataframe\">\n",
       "  <thead>\n",
       "    <tr style=\"text-align: right;\">\n",
       "      <th></th>\n",
       "      <th>Name</th>\n",
       "      <th>Score1</th>\n",
       "      <th>Score2</th>\n",
       "      <th>Score3</th>\n",
       "    </tr>\n",
       "  </thead>\n",
       "  <tbody>\n",
       "    <tr>\n",
       "      <th>0</th>\n",
       "      <td>Anitha</td>\n",
       "      <td>62</td>\n",
       "      <td>89</td>\n",
       "      <td>56</td>\n",
       "    </tr>\n",
       "    <tr>\n",
       "      <th>1</th>\n",
       "      <td>Bobby</td>\n",
       "      <td>47</td>\n",
       "      <td>87</td>\n",
       "      <td>86</td>\n",
       "    </tr>\n",
       "    <tr>\n",
       "      <th>2</th>\n",
       "      <td>Raghavendra</td>\n",
       "      <td>55</td>\n",
       "      <td>67</td>\n",
       "      <td>77</td>\n",
       "    </tr>\n",
       "    <tr>\n",
       "      <th>3</th>\n",
       "      <td>Mamatha</td>\n",
       "      <td>74</td>\n",
       "      <td>55</td>\n",
       "      <td>45</td>\n",
       "    </tr>\n",
       "    <tr>\n",
       "      <th>4</th>\n",
       "      <td>Madhusudhan</td>\n",
       "      <td>31</td>\n",
       "      <td>47</td>\n",
       "      <td>73</td>\n",
       "    </tr>\n",
       "    <tr>\n",
       "      <th>5</th>\n",
       "      <td>Seema</td>\n",
       "      <td>77</td>\n",
       "      <td>72</td>\n",
       "      <td>62</td>\n",
       "    </tr>\n",
       "    <tr>\n",
       "      <th>6</th>\n",
       "      <td>Sowmya</td>\n",
       "      <td>85</td>\n",
       "      <td>76</td>\n",
       "      <td>74</td>\n",
       "    </tr>\n",
       "    <tr>\n",
       "      <th>7</th>\n",
       "      <td>Rahul</td>\n",
       "      <td>63</td>\n",
       "      <td>79</td>\n",
       "      <td>89</td>\n",
       "    </tr>\n",
       "    <tr>\n",
       "      <th>8</th>\n",
       "      <td>Manoj</td>\n",
       "      <td>42</td>\n",
       "      <td>44</td>\n",
       "      <td>71</td>\n",
       "    </tr>\n",
       "    <tr>\n",
       "      <th>9</th>\n",
       "      <td>Mounika</td>\n",
       "      <td>32</td>\n",
       "      <td>92</td>\n",
       "      <td>67</td>\n",
       "    </tr>\n",
       "    <tr>\n",
       "      <th>10</th>\n",
       "      <td>Ajay</td>\n",
       "      <td>71</td>\n",
       "      <td>99</td>\n",
       "      <td>97</td>\n",
       "    </tr>\n",
       "    <tr>\n",
       "      <th>11</th>\n",
       "      <td>Sundar</td>\n",
       "      <td>57</td>\n",
       "      <td>69</td>\n",
       "      <td>68</td>\n",
       "    </tr>\n",
       "  </tbody>\n",
       "</table>\n",
       "</div>"
      ],
      "text/plain": [
       "           Name  Score1  Score2  Score3\n",
       "0        Anitha      62      89      56\n",
       "1         Bobby      47      87      86\n",
       "2   Raghavendra      55      67      77\n",
       "3       Mamatha      74      55      45\n",
       "4   Madhusudhan      31      47      73\n",
       "5         Seema      77      72      62\n",
       "6        Sowmya      85      76      74\n",
       "7         Rahul      63      79      89\n",
       "8         Manoj      42      44      71\n",
       "9       Mounika      32      92      67\n",
       "10         Ajay      71      99      97\n",
       "11       Sundar      57      69      68"
      ]
     },
     "execution_count": 2,
     "metadata": {},
     "output_type": "execute_result"
    }
   ],
   "source": [
    "df"
   ]
  },
  {
   "cell_type": "code",
   "execution_count": 3,
   "metadata": {},
   "outputs": [
    {
     "data": {
      "text/plain": [
       "Score1    58.000000\n",
       "Score2    73.000000\n",
       "Score3    72.083333\n",
       "dtype: float64"
      ]
     },
     "execution_count": 3,
     "metadata": {},
     "output_type": "execute_result"
    }
   ],
   "source": [
    "df.mean()"
   ]
  },
  {
   "cell_type": "code",
   "execution_count": 4,
   "metadata": {},
   "outputs": [
    {
     "data": {
      "text/plain": [
       "Score1    304.363636\n",
       "Score2    311.636364\n",
       "Score3    206.083333\n",
       "dtype: float64"
      ]
     },
     "execution_count": 4,
     "metadata": {},
     "output_type": "execute_result"
    }
   ],
   "source": [
    "df.var()"
   ]
  },
  {
   "cell_type": "code",
   "execution_count": 8,
   "metadata": {},
   "outputs": [
    {
     "data": {
      "text/plain": [
       "0     309.000000\n",
       "1     520.333333\n",
       "2     121.333333\n",
       "3     217.000000\n",
       "4     449.333333\n",
       "5      58.333333\n",
       "6      34.333333\n",
       "7     172.000000\n",
       "8     262.333333\n",
       "9     908.333333\n",
       "10    244.000000\n",
       "11     44.333333\n",
       "dtype: float64"
      ]
     },
     "execution_count": 8,
     "metadata": {},
     "output_type": "execute_result"
    }
   ],
   "source": [
    "df.var(axis=1)"
   ]
  },
  {
   "cell_type": "code",
   "execution_count": 9,
   "metadata": {},
   "outputs": [
    {
     "data": {
      "text/plain": [
       "304.3636363636364"
      ]
     },
     "execution_count": 9,
     "metadata": {},
     "output_type": "execute_result"
    }
   ],
   "source": [
    "df.loc[:,\"Score1\"].var()"
   ]
  },
  {
   "cell_type": "code",
   "execution_count": 10,
   "metadata": {},
   "outputs": [],
   "source": [
    "import pandas as pd  \n",
    "import numpy as np    \n",
    "info = {  \n",
    "    'Name':['Manvitha','Surah','Jahanavi','Sonam'],  \n",
    "   'sub1_Marks':[52,38,42,37],  \n",
    "   'sub2_Marks':[41,35,29,36]}   \n",
    "data = pd.DataFrame(info)"
   ]
  },
  {
   "cell_type": "code",
   "execution_count": 11,
   "metadata": {},
   "outputs": [
    {
     "data": {
      "text/html": [
       "<div>\n",
       "<style scoped>\n",
       "    .dataframe tbody tr th:only-of-type {\n",
       "        vertical-align: middle;\n",
       "    }\n",
       "\n",
       "    .dataframe tbody tr th {\n",
       "        vertical-align: top;\n",
       "    }\n",
       "\n",
       "    .dataframe thead th {\n",
       "        text-align: right;\n",
       "    }\n",
       "</style>\n",
       "<table border=\"1\" class=\"dataframe\">\n",
       "  <thead>\n",
       "    <tr style=\"text-align: right;\">\n",
       "      <th></th>\n",
       "      <th>Name</th>\n",
       "      <th>sub1_Marks</th>\n",
       "      <th>sub2_Marks</th>\n",
       "    </tr>\n",
       "  </thead>\n",
       "  <tbody>\n",
       "    <tr>\n",
       "      <th>0</th>\n",
       "      <td>Manvitha</td>\n",
       "      <td>52</td>\n",
       "      <td>41</td>\n",
       "    </tr>\n",
       "    <tr>\n",
       "      <th>1</th>\n",
       "      <td>Surah</td>\n",
       "      <td>38</td>\n",
       "      <td>35</td>\n",
       "    </tr>\n",
       "    <tr>\n",
       "      <th>2</th>\n",
       "      <td>Jahanavi</td>\n",
       "      <td>42</td>\n",
       "      <td>29</td>\n",
       "    </tr>\n",
       "    <tr>\n",
       "      <th>3</th>\n",
       "      <td>Sonam</td>\n",
       "      <td>37</td>\n",
       "      <td>36</td>\n",
       "    </tr>\n",
       "  </tbody>\n",
       "</table>\n",
       "</div>"
      ],
      "text/plain": [
       "       Name  sub1_Marks  sub2_Marks\n",
       "0  Manvitha          52          41\n",
       "1     Surah          38          35\n",
       "2  Jahanavi          42          29\n",
       "3     Sonam          37          36"
      ]
     },
     "execution_count": 11,
     "metadata": {},
     "output_type": "execute_result"
    }
   ],
   "source": [
    "data"
   ]
  },
  {
   "cell_type": "code",
   "execution_count": 12,
   "metadata": {},
   "outputs": [
    {
     "data": {
      "text/plain": [
       "sub1_Marks    6.849574\n",
       "sub2_Marks    4.924429\n",
       "dtype: float64"
      ]
     },
     "execution_count": 12,
     "metadata": {},
     "output_type": "execute_result"
    }
   ],
   "source": [
    "data.std()"
   ]
  },
  {
   "cell_type": "code",
   "execution_count": 13,
   "metadata": {},
   "outputs": [
    {
     "data": {
      "text/plain": [
       "0    7.778175\n",
       "1    2.121320\n",
       "2    9.192388\n",
       "3    0.707107\n",
       "dtype: float64"
      ]
     },
     "execution_count": 13,
     "metadata": {},
     "output_type": "execute_result"
    }
   ],
   "source": [
    "data.std(axis=1)"
   ]
  },
  {
   "cell_type": "code",
   "execution_count": 14,
   "metadata": {},
   "outputs": [
    {
     "name": "stdout",
     "output_type": "stream",
     "text": [
      "DataFrame:\n",
      "    C1  C2  C3  C4  C5  C6  C7\n",
      "R1  10  20  30  40  50  60  70\n",
      "R2  10  10  40  40  50  60  70\n",
      "R3  10  20  30  50  50  60  80\n",
      "\n",
      "\n",
      "Skew over rows\n",
      "R1    0.000000\n",
      "R2   -0.340998\n",
      "R3    0.121467\n",
      "dtype: float64\n",
      "\n",
      "\n",
      "Skew over columns\n",
      "C1    0.000000\n",
      "C2   -1.732051\n",
      "C3    1.732051\n",
      "C4    1.732051\n",
      "C5    0.000000\n",
      "C6    0.000000\n",
      "C7    1.732051\n",
      "dtype: float64\n"
     ]
    }
   ],
   "source": [
    "import pandas as pd\n",
    "dataVal = [(10,20,30,40,50,60,70),\n",
    "           (10,10,40,40,50,60,70),\n",
    "           (10,20,30,50,50,60,80)]\n",
    "dataFrame = pd.DataFrame(data=dataVal, index=['R1','R2','R3'], columns=['C1','C2','C3','C4','C5','C6','C7']);\n",
    "print(\"DataFrame:\")\n",
    "print(dataFrame)\n",
    "print(\"\\n\\nSkew over rows\")\n",
    "skewValue = dataFrame.skew(axis=1)\n",
    "print(skewValue)\n",
    "print(\"\\n\\nSkew over columns\")\n",
    "skewValue = dataFrame.skew(axis=0)\n",
    "print(skewValue)"
   ]
  },
  {
   "cell_type": "code",
   "execution_count": 15,
   "metadata": {},
   "outputs": [
    {
     "name": "stdout",
     "output_type": "stream",
     "text": [
      "Printing the data frame \n",
      "   A  B  C\n",
      "0  1  3  2\n",
      "1  5  2  2\n",
      "2  3  4  7\n",
      "3  4  3  3\n",
      "\n",
      "\n",
      "\n",
      "\n",
      "Printing the following quantiles  of data frame along columns [0.1, 0.25, 0.5, 0.75]\n",
      "         A     B    C\n",
      "0.10  1.60  2.30  2.0\n",
      "0.25  2.50  2.75  2.0\n",
      "0.50  3.50  3.00  2.5\n",
      "0.75  4.25  3.25  4.0\n"
     ]
    }
   ],
   "source": [
    "import pandas as pd  \n",
    "df = pd.DataFrame({\"A\":[1, 5, 3, 4], \n",
    "                \"B\":[3, 2, 4, 3], \n",
    "                \"C\":[2, 2, 7, 3]}) \n",
    "print(\"Printing the data frame \")\n",
    "print(df)\n",
    "print(\"\\n\\n\") \n",
    "quantrange=[.1, .25, .5, .75]\n",
    "print(\"\\nPrinting the following quantiles  of data frame along columns\", quantrange)\n",
    "print(df.quantile(quantrange, axis = 0) )\n",
    "\n"
   ]
  },
  {
   "cell_type": "code",
   "execution_count": 16,
   "metadata": {},
   "outputs": [
    {
     "name": "stdout",
     "output_type": "stream",
     "text": [
      "Printing dataframe:\n",
      "\n",
      "         City1     City2     City3     City4\n",
      "week                                        \n",
      "1     0.858499  0.349754  0.839588  0.389526\n",
      "2     0.841460  0.971050  0.456283  0.457071\n",
      "3     0.049395  0.384681  0.569185  0.635438\n",
      "4     0.580852  0.399969  0.236097  0.283847\n",
      "5     0.173564  0.835375  0.249659  0.243165\n",
      "\n",
      "Printing range for each column in dataframe:\n",
      "\n",
      "\n",
      "City1    0.809104\n",
      "City2    0.621296\n",
      "City3    0.603491\n",
      "City4    0.392273\n",
      "dtype: float64\n"
     ]
    }
   ],
   "source": [
    "df = pd.DataFrame(np.random.random((5,4)), index=pd.Series(range(1,6), name=\"week\"), columns=[\"City{}\".format(i) for i in range(1,5)])\n",
    "print(\"Printing dataframe:\\n\")\n",
    "print(df)\n",
    "print(\"\\nPrinting range for each column in dataframe:\\n\\n\")\n",
    "print(df.max() - df.min())\n"
   ]
  },
  {
   "cell_type": "code",
   "execution_count": null,
   "metadata": {},
   "outputs": [],
   "source": []
  }
 ],
 "metadata": {
  "kernelspec": {
   "display_name": "Python 3",
   "language": "python",
   "name": "python3"
  },
  "language_info": {
   "codemirror_mode": {
    "name": "ipython",
    "version": 3
   },
   "file_extension": ".py",
   "mimetype": "text/x-python",
   "name": "python",
   "nbconvert_exporter": "python",
   "pygments_lexer": "ipython3",
   "version": "3.8.3"
  }
 },
 "nbformat": 4,
 "nbformat_minor": 4
}
